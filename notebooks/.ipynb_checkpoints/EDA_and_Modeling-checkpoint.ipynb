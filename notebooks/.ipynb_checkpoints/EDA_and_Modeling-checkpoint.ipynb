{
 "cells": [
  {
   "cell_type": "code",
   "execution_count": 2,
   "metadata": {},
   "outputs": [],
   "source": [
    "import warnings\n",
    "warnings.filterwarnings(\"ignore\")"
   ]
  },
  {
   "cell_type": "code",
   "execution_count": 3,
   "metadata": {
    "pycharm": {
     "name": "#%%\n"
    }
   },
   "outputs": [],
   "source": [
    "import pandas as pd\n",
    "\n",
    "train = pd.read_csv(\"../input/train.csv\")\n",
    "test = pd.read_csv(\"../input/test.csv\")\n",
    "sub = pd.read_csv(\"../input/sample_submission.csv\")"
   ]
  },
  {
   "cell_type": "code",
   "execution_count": 4,
   "metadata": {},
   "outputs": [
    {
     "data": {
      "text/html": [
       "<div>\n",
       "<style scoped>\n",
       "    .dataframe tbody tr th:only-of-type {\n",
       "        vertical-align: middle;\n",
       "    }\n",
       "\n",
       "    .dataframe tbody tr th {\n",
       "        vertical-align: top;\n",
       "    }\n",
       "\n",
       "    .dataframe thead th {\n",
       "        text-align: right;\n",
       "    }\n",
       "</style>\n",
       "<table border=\"1\" class=\"dataframe\">\n",
       "  <thead>\n",
       "    <tr style=\"text-align: right;\">\n",
       "      <th></th>\n",
       "      <th>id</th>\n",
       "      <th>cont1</th>\n",
       "      <th>cont2</th>\n",
       "      <th>cont3</th>\n",
       "      <th>cont4</th>\n",
       "      <th>cont5</th>\n",
       "      <th>cont6</th>\n",
       "      <th>cont7</th>\n",
       "      <th>cont8</th>\n",
       "      <th>cont9</th>\n",
       "      <th>cont10</th>\n",
       "      <th>cont11</th>\n",
       "      <th>cont12</th>\n",
       "      <th>cont13</th>\n",
       "      <th>cont14</th>\n",
       "      <th>target</th>\n",
       "    </tr>\n",
       "  </thead>\n",
       "  <tbody>\n",
       "    <tr>\n",
       "      <th>0</th>\n",
       "      <td>1</td>\n",
       "      <td>0.670390</td>\n",
       "      <td>0.811300</td>\n",
       "      <td>0.643968</td>\n",
       "      <td>0.291791</td>\n",
       "      <td>0.284117</td>\n",
       "      <td>0.855953</td>\n",
       "      <td>0.890700</td>\n",
       "      <td>0.285542</td>\n",
       "      <td>0.558245</td>\n",
       "      <td>0.779418</td>\n",
       "      <td>0.921832</td>\n",
       "      <td>0.866772</td>\n",
       "      <td>0.878733</td>\n",
       "      <td>0.305411</td>\n",
       "      <td>7.243043</td>\n",
       "    </tr>\n",
       "    <tr>\n",
       "      <th>1</th>\n",
       "      <td>3</td>\n",
       "      <td>0.388053</td>\n",
       "      <td>0.621104</td>\n",
       "      <td>0.686102</td>\n",
       "      <td>0.501149</td>\n",
       "      <td>0.643790</td>\n",
       "      <td>0.449805</td>\n",
       "      <td>0.510824</td>\n",
       "      <td>0.580748</td>\n",
       "      <td>0.418335</td>\n",
       "      <td>0.432632</td>\n",
       "      <td>0.439872</td>\n",
       "      <td>0.434971</td>\n",
       "      <td>0.369957</td>\n",
       "      <td>0.369484</td>\n",
       "      <td>8.203331</td>\n",
       "    </tr>\n",
       "    <tr>\n",
       "      <th>2</th>\n",
       "      <td>4</td>\n",
       "      <td>0.834950</td>\n",
       "      <td>0.227436</td>\n",
       "      <td>0.301584</td>\n",
       "      <td>0.293408</td>\n",
       "      <td>0.606839</td>\n",
       "      <td>0.829175</td>\n",
       "      <td>0.506143</td>\n",
       "      <td>0.558771</td>\n",
       "      <td>0.587603</td>\n",
       "      <td>0.823312</td>\n",
       "      <td>0.567007</td>\n",
       "      <td>0.677708</td>\n",
       "      <td>0.882938</td>\n",
       "      <td>0.303047</td>\n",
       "      <td>7.776091</td>\n",
       "    </tr>\n",
       "  </tbody>\n",
       "</table>\n",
       "</div>"
      ],
      "text/plain": [
       "   id     cont1     cont2     cont3     cont4     cont5     cont6     cont7  \\\n",
       "0   1  0.670390  0.811300  0.643968  0.291791  0.284117  0.855953  0.890700   \n",
       "1   3  0.388053  0.621104  0.686102  0.501149  0.643790  0.449805  0.510824   \n",
       "2   4  0.834950  0.227436  0.301584  0.293408  0.606839  0.829175  0.506143   \n",
       "\n",
       "      cont8     cont9    cont10    cont11    cont12    cont13    cont14  \\\n",
       "0  0.285542  0.558245  0.779418  0.921832  0.866772  0.878733  0.305411   \n",
       "1  0.580748  0.418335  0.432632  0.439872  0.434971  0.369957  0.369484   \n",
       "2  0.558771  0.587603  0.823312  0.567007  0.677708  0.882938  0.303047   \n",
       "\n",
       "     target  \n",
       "0  7.243043  \n",
       "1  8.203331  \n",
       "2  7.776091  "
      ]
     },
     "execution_count": 4,
     "metadata": {},
     "output_type": "execute_result"
    }
   ],
   "source": [
    "train.head(3)"
   ]
  },
  {
   "cell_type": "code",
   "execution_count": 5,
   "metadata": {},
   "outputs": [
    {
     "data": {
      "text/html": [
       "<div>\n",
       "<style scoped>\n",
       "    .dataframe tbody tr th:only-of-type {\n",
       "        vertical-align: middle;\n",
       "    }\n",
       "\n",
       "    .dataframe tbody tr th {\n",
       "        vertical-align: top;\n",
       "    }\n",
       "\n",
       "    .dataframe thead th {\n",
       "        text-align: right;\n",
       "    }\n",
       "</style>\n",
       "<table border=\"1\" class=\"dataframe\">\n",
       "  <thead>\n",
       "    <tr style=\"text-align: right;\">\n",
       "      <th></th>\n",
       "      <th>id</th>\n",
       "      <th>cont1</th>\n",
       "      <th>cont2</th>\n",
       "      <th>cont3</th>\n",
       "      <th>cont4</th>\n",
       "      <th>cont5</th>\n",
       "      <th>cont6</th>\n",
       "      <th>cont7</th>\n",
       "      <th>cont8</th>\n",
       "      <th>cont9</th>\n",
       "      <th>cont10</th>\n",
       "      <th>cont11</th>\n",
       "      <th>cont12</th>\n",
       "      <th>cont13</th>\n",
       "      <th>cont14</th>\n",
       "    </tr>\n",
       "  </thead>\n",
       "  <tbody>\n",
       "    <tr>\n",
       "      <th>0</th>\n",
       "      <td>0</td>\n",
       "      <td>0.353600</td>\n",
       "      <td>0.738780</td>\n",
       "      <td>0.600939</td>\n",
       "      <td>0.293377</td>\n",
       "      <td>0.285691</td>\n",
       "      <td>0.458006</td>\n",
       "      <td>0.620704</td>\n",
       "      <td>0.422249</td>\n",
       "      <td>0.369203</td>\n",
       "      <td>0.435727</td>\n",
       "      <td>0.550540</td>\n",
       "      <td>0.699134</td>\n",
       "      <td>0.286864</td>\n",
       "      <td>0.364515</td>\n",
       "    </tr>\n",
       "    <tr>\n",
       "      <th>1</th>\n",
       "      <td>2</td>\n",
       "      <td>0.907222</td>\n",
       "      <td>0.189756</td>\n",
       "      <td>0.215531</td>\n",
       "      <td>0.869915</td>\n",
       "      <td>0.301333</td>\n",
       "      <td>0.528958</td>\n",
       "      <td>0.390351</td>\n",
       "      <td>0.521112</td>\n",
       "      <td>0.794779</td>\n",
       "      <td>0.798580</td>\n",
       "      <td>0.446475</td>\n",
       "      <td>0.449037</td>\n",
       "      <td>0.916964</td>\n",
       "      <td>0.513002</td>\n",
       "    </tr>\n",
       "    <tr>\n",
       "      <th>2</th>\n",
       "      <td>6</td>\n",
       "      <td>0.179287</td>\n",
       "      <td>0.355353</td>\n",
       "      <td>0.623972</td>\n",
       "      <td>0.437812</td>\n",
       "      <td>0.282476</td>\n",
       "      <td>0.320826</td>\n",
       "      <td>0.386789</td>\n",
       "      <td>0.776422</td>\n",
       "      <td>0.222268</td>\n",
       "      <td>0.229102</td>\n",
       "      <td>0.211913</td>\n",
       "      <td>0.222651</td>\n",
       "      <td>0.327164</td>\n",
       "      <td>0.827941</td>\n",
       "    </tr>\n",
       "  </tbody>\n",
       "</table>\n",
       "</div>"
      ],
      "text/plain": [
       "   id     cont1     cont2     cont3     cont4     cont5     cont6     cont7  \\\n",
       "0   0  0.353600  0.738780  0.600939  0.293377  0.285691  0.458006  0.620704   \n",
       "1   2  0.907222  0.189756  0.215531  0.869915  0.301333  0.528958  0.390351   \n",
       "2   6  0.179287  0.355353  0.623972  0.437812  0.282476  0.320826  0.386789   \n",
       "\n",
       "      cont8     cont9    cont10    cont11    cont12    cont13    cont14  \n",
       "0  0.422249  0.369203  0.435727  0.550540  0.699134  0.286864  0.364515  \n",
       "1  0.521112  0.794779  0.798580  0.446475  0.449037  0.916964  0.513002  \n",
       "2  0.776422  0.222268  0.229102  0.211913  0.222651  0.327164  0.827941  "
      ]
     },
     "execution_count": 5,
     "metadata": {},
     "output_type": "execute_result"
    }
   ],
   "source": [
    "test.head(3)"
   ]
  },
  {
   "cell_type": "code",
   "execution_count": 6,
   "metadata": {},
   "outputs": [],
   "source": [
    "xtrain = train.drop([\"target\"], axis=1)\n",
    "ytrain = train[\"target\"]\n",
    "xtest = test"
   ]
  },
  {
   "cell_type": "code",
   "execution_count": 7,
   "metadata": {},
   "outputs": [
    {
     "data": {
      "image/png": "[encoded data removed]",
      "text/plain": [
       "<Figure size 432x288 with 1 Axes>"
      ]
     },
     "metadata": {
      "needs_background": "light"
     },
     "output_type": "display_data"
    }
   ],
   "source": [
    "import seaborn as sns\n",
    "sns.distplot(ytrain, kde=False);"
   ]
  },
  {
   "cell_type": "code",
   "execution_count": 8,
   "metadata": {},
   "outputs": [
    {
     "data": {
      "text/plain": [
       "<Figure size 432x288 with 0 Axes>"
      ]
     },
     "metadata": {},
     "output_type": "display_data"
    },
    {
     "data": {
      "image/png": "[encoded data removed]",
      "text/plain": [
       "<Figure size 1080x1080 with 15 Axes>"
      ]
     },
     "metadata": {
      "needs_background": "light"
     },
     "output_type": "display_data"
    }
   ],
   "source": [
    "import matplotlib.pyplot as plt\n",
    "features = [f for f in xtrain if f not in (\"id\")]\n",
    "\n",
    "i = 1\n",
    "plt.figure()\n",
    "fig, ax = plt.subplots(5,3,figsize=(15,15))\n",
    "for feat in features:\n",
    "    plt.subplot(5,3,i)\n",
    "    sns.distplot(train[feat], kde=False, label=\"train\");\n",
    "    sns.distplot(test[feat], kde=False, label=\"test\");\n",
    "    plt.xlabel(feat, fontsize=9);\n",
    "    plt.legend();\n",
    "    i += 1"
   ]
  },
  {
   "cell_type": "code",
   "execution_count": 9,
   "metadata": {},
   "outputs": [
    {
     "data": {
      "text/html": [
       "<div>\n",
       "<style scoped>\n",
       "    .dataframe tbody tr th:only-of-type {\n",
       "        vertical-align: middle;\n",
       "    }\n",
       "\n",
       "    .dataframe tbody tr th {\n",
       "        vertical-align: top;\n",
       "    }\n",
       "\n",
       "    .dataframe thead th {\n",
       "        text-align: right;\n",
       "    }\n",
       "</style>\n",
       "<table border=\"1\" class=\"dataframe\">\n",
       "  <thead>\n",
       "    <tr style=\"text-align: right;\">\n",
       "      <th></th>\n",
       "      <th>id</th>\n",
       "      <th>cont1</th>\n",
       "      <th>cont2</th>\n",
       "      <th>cont3</th>\n",
       "      <th>cont4</th>\n",
       "      <th>cont5</th>\n",
       "      <th>cont6</th>\n",
       "      <th>cont7</th>\n",
       "      <th>cont8</th>\n",
       "      <th>cont9</th>\n",
       "      <th>cont10</th>\n",
       "      <th>cont11</th>\n",
       "      <th>cont12</th>\n",
       "      <th>cont13</th>\n",
       "      <th>cont14</th>\n",
       "      <th>target</th>\n",
       "    </tr>\n",
       "  </thead>\n",
       "  <tbody>\n",
       "    <tr>\n",
       "      <th>id</th>\n",
       "      <td>1.000000</td>\n",
       "      <td>-0.001454</td>\n",
       "      <td>0.000574</td>\n",
       "      <td>0.001609</td>\n",
       "      <td>0.002131</td>\n",
       "      <td>0.001959</td>\n",
       "      <td>-0.001971</td>\n",
       "      <td>-0.000155</td>\n",
       "      <td>0.002112</td>\n",
       "      <td>0.000030</td>\n",
       "      <td>-0.001652</td>\n",
       "      <td>-0.000484</td>\n",
       "      <td>-0.002075</td>\n",
       "      <td>-0.000577</td>\n",
       "      <td>0.001940</td>\n",
       "      <td>0.001347</td>\n",
       "    </tr>\n",
       "    <tr>\n",
       "      <th>cont1</th>\n",
       "      <td>-0.001454</td>\n",
       "      <td>1.000000</td>\n",
       "      <td>-0.080170</td>\n",
       "      <td>-0.419712</td>\n",
       "      <td>0.273705</td>\n",
       "      <td>-0.059012</td>\n",
       "      <td>0.698556</td>\n",
       "      <td>0.341478</td>\n",
       "      <td>0.373340</td>\n",
       "      <td>0.794003</td>\n",
       "      <td>0.725040</td>\n",
       "      <td>0.565717</td>\n",
       "      <td>0.600041</td>\n",
       "      <td>0.570382</td>\n",
       "      <td>0.067294</td>\n",
       "      <td>-0.032994</td>\n",
       "    </tr>\n",
       "    <tr>\n",
       "      <th>cont2</th>\n",
       "      <td>0.000574</td>\n",
       "      <td>-0.080170</td>\n",
       "      <td>1.000000</td>\n",
       "      <td>0.334487</td>\n",
       "      <td>-0.005533</td>\n",
       "      <td>0.150737</td>\n",
       "      <td>0.023692</td>\n",
       "      <td>0.116222</td>\n",
       "      <td>0.081049</td>\n",
       "      <td>-0.046769</td>\n",
       "      <td>0.035101</td>\n",
       "      <td>0.126024</td>\n",
       "      <td>0.092642</td>\n",
       "      <td>0.017383</td>\n",
       "      <td>0.023972</td>\n",
       "      <td>0.067102</td>\n",
       "    </tr>\n",
       "    <tr>\n",
       "      <th>cont3</th>\n",
       "      <td>0.001609</td>\n",
       "      <td>-0.419712</td>\n",
       "      <td>0.334487</td>\n",
       "      <td>1.000000</td>\n",
       "      <td>-0.329131</td>\n",
       "      <td>0.060931</td>\n",
       "      <td>-0.300509</td>\n",
       "      <td>0.106904</td>\n",
       "      <td>-0.309783</td>\n",
       "      <td>-0.406743</td>\n",
       "      <td>-0.289756</td>\n",
       "      <td>-0.075415</td>\n",
       "      <td>-0.103735</td>\n",
       "      <td>-0.386521</td>\n",
       "      <td>-0.065457</td>\n",
       "      <td>0.058936</td>\n",
       "    </tr>\n",
       "    <tr>\n",
       "      <th>cont4</th>\n",
       "      <td>0.002131</td>\n",
       "      <td>0.273705</td>\n",
       "      <td>-0.005533</td>\n",
       "      <td>-0.329131</td>\n",
       "      <td>1.000000</td>\n",
       "      <td>0.123526</td>\n",
       "      <td>0.152752</td>\n",
       "      <td>-0.077045</td>\n",
       "      <td>0.324784</td>\n",
       "      <td>0.261927</td>\n",
       "      <td>0.204139</td>\n",
       "      <td>0.063961</td>\n",
       "      <td>0.073291</td>\n",
       "      <td>0.155226</td>\n",
       "      <td>0.054703</td>\n",
       "      <td>0.005522</td>\n",
       "    </tr>\n",
       "    <tr>\n",
       "      <th>cont5</th>\n",
       "      <td>0.001959</td>\n",
       "      <td>-0.059012</td>\n",
       "      <td>0.150737</td>\n",
       "      <td>0.060931</td>\n",
       "      <td>0.123526</td>\n",
       "      <td>1.000000</td>\n",
       "      <td>-0.179084</td>\n",
       "      <td>-0.241272</td>\n",
       "      <td>0.010438</td>\n",
       "      <td>-0.071764</td>\n",
       "      <td>-0.102531</td>\n",
       "      <td>-0.222244</td>\n",
       "      <td>-0.192571</td>\n",
       "      <td>-0.140272</td>\n",
       "      <td>0.040552</td>\n",
       "      <td>-0.005358</td>\n",
       "    </tr>\n",
       "    <tr>\n",
       "      <th>cont6</th>\n",
       "      <td>-0.001971</td>\n",
       "      <td>0.698556</td>\n",
       "      <td>0.023692</td>\n",
       "      <td>-0.300509</td>\n",
       "      <td>0.152752</td>\n",
       "      <td>-0.179084</td>\n",
       "      <td>1.000000</td>\n",
       "      <td>0.541975</td>\n",
       "      <td>0.415008</td>\n",
       "      <td>0.716613</td>\n",
       "      <td>0.770628</td>\n",
       "      <td>0.737495</td>\n",
       "      <td>0.757105</td>\n",
       "      <td>0.783604</td>\n",
       "      <td>0.067007</td>\n",
       "      <td>0.027955</td>\n",
       "    </tr>\n",
       "    <tr>\n",
       "      <th>cont7</th>\n",
       "      <td>-0.000155</td>\n",
       "      <td>0.341478</td>\n",
       "      <td>0.116222</td>\n",
       "      <td>0.106904</td>\n",
       "      <td>-0.077045</td>\n",
       "      <td>-0.241272</td>\n",
       "      <td>0.541975</td>\n",
       "      <td>1.000000</td>\n",
       "      <td>0.150403</td>\n",
       "      <td>0.341759</td>\n",
       "      <td>0.465418</td>\n",
       "      <td>0.672188</td>\n",
       "      <td>0.657310</td>\n",
       "      <td>0.322415</td>\n",
       "      <td>-0.037135</td>\n",
       "      <td>0.067234</td>\n",
       "    </tr>\n",
       "    <tr>\n",
       "      <th>cont8</th>\n",
       "      <td>0.002112</td>\n",
       "      <td>0.373340</td>\n",
       "      <td>0.081049</td>\n",
       "      <td>-0.309783</td>\n",
       "      <td>0.324784</td>\n",
       "      <td>0.010438</td>\n",
       "      <td>0.415008</td>\n",
       "      <td>0.150403</td>\n",
       "      <td>1.000000</td>\n",
       "      <td>0.429986</td>\n",
       "      <td>0.362336</td>\n",
       "      <td>0.296598</td>\n",
       "      <td>0.323042</td>\n",
       "      <td>0.475072</td>\n",
       "      <td>0.100645</td>\n",
       "      <td>0.014698</td>\n",
       "    </tr>\n",
       "    <tr>\n",
       "      <th>cont9</th>\n",
       "      <td>0.000030</td>\n",
       "      <td>0.794003</td>\n",
       "      <td>-0.046769</td>\n",
       "      <td>-0.406743</td>\n",
       "      <td>0.261927</td>\n",
       "      <td>-0.071764</td>\n",
       "      <td>0.716613</td>\n",
       "      <td>0.341759</td>\n",
       "      <td>0.429986</td>\n",
       "      <td>1.000000</td>\n",
       "      <td>0.725053</td>\n",
       "      <td>0.575095</td>\n",
       "      <td>0.605091</td>\n",
       "      <td>0.628391</td>\n",
       "      <td>0.081992</td>\n",
       "      <td>-0.013029</td>\n",
       "    </tr>\n",
       "    <tr>\n",
       "      <th>cont10</th>\n",
       "      <td>-0.001652</td>\n",
       "      <td>0.725040</td>\n",
       "      <td>0.035101</td>\n",
       "      <td>-0.289756</td>\n",
       "      <td>0.204139</td>\n",
       "      <td>-0.102531</td>\n",
       "      <td>0.770628</td>\n",
       "      <td>0.465418</td>\n",
       "      <td>0.362336</td>\n",
       "      <td>0.725053</td>\n",
       "      <td>1.000000</td>\n",
       "      <td>0.677570</td>\n",
       "      <td>0.701872</td>\n",
       "      <td>0.650809</td>\n",
       "      <td>0.047727</td>\n",
       "      <td>-0.021143</td>\n",
       "    </tr>\n",
       "    <tr>\n",
       "      <th>cont11</th>\n",
       "      <td>-0.000484</td>\n",
       "      <td>0.565717</td>\n",
       "      <td>0.126024</td>\n",
       "      <td>-0.075415</td>\n",
       "      <td>0.063961</td>\n",
       "      <td>-0.222244</td>\n",
       "      <td>0.737495</td>\n",
       "      <td>0.672188</td>\n",
       "      <td>0.296598</td>\n",
       "      <td>0.575095</td>\n",
       "      <td>0.677570</td>\n",
       "      <td>1.000000</td>\n",
       "      <td>0.825869</td>\n",
       "      <td>0.558546</td>\n",
       "      <td>0.011074</td>\n",
       "      <td>0.050996</td>\n",
       "    </tr>\n",
       "    <tr>\n",
       "      <th>cont12</th>\n",
       "      <td>-0.002075</td>\n",
       "      <td>0.600041</td>\n",
       "      <td>0.092642</td>\n",
       "      <td>-0.103735</td>\n",
       "      <td>0.073291</td>\n",
       "      <td>-0.192571</td>\n",
       "      <td>0.757105</td>\n",
       "      <td>0.657310</td>\n",
       "      <td>0.323042</td>\n",
       "      <td>0.605091</td>\n",
       "      <td>0.701872</td>\n",
       "      <td>0.825869</td>\n",
       "      <td>1.000000</td>\n",
       "      <td>0.565462</td>\n",
       "      <td>0.022697</td>\n",
       "      <td>0.047809</td>\n",
       "    </tr>\n",
       "    <tr>\n",
       "      <th>cont13</th>\n",
       "      <td>-0.000577</td>\n",
       "      <td>0.570382</td>\n",
       "      <td>0.017383</td>\n",
       "      <td>-0.386521</td>\n",
       "      <td>0.155226</td>\n",
       "      <td>-0.140272</td>\n",
       "      <td>0.783604</td>\n",
       "      <td>0.322415</td>\n",
       "      <td>0.475072</td>\n",
       "      <td>0.628391</td>\n",
       "      <td>0.650809</td>\n",
       "      <td>0.558546</td>\n",
       "      <td>0.565462</td>\n",
       "      <td>1.000000</td>\n",
       "      <td>0.103839</td>\n",
       "      <td>-0.006642</td>\n",
       "    </tr>\n",
       "    <tr>\n",
       "      <th>cont14</th>\n",
       "      <td>0.001940</td>\n",
       "      <td>0.067294</td>\n",
       "      <td>0.023972</td>\n",
       "      <td>-0.065457</td>\n",
       "      <td>0.054703</td>\n",
       "      <td>0.040552</td>\n",
       "      <td>0.067007</td>\n",
       "      <td>-0.037135</td>\n",
       "      <td>0.100645</td>\n",
       "      <td>0.081992</td>\n",
       "      <td>0.047727</td>\n",
       "      <td>0.011074</td>\n",
       "      <td>0.022697</td>\n",
       "      <td>0.103839</td>\n",
       "      <td>1.000000</td>\n",
       "      <td>-0.006609</td>\n",
       "    </tr>\n",
       "    <tr>\n",
       "      <th>target</th>\n",
       "      <td>0.001347</td>\n",
       "      <td>-0.032994</td>\n",
       "      <td>0.067102</td>\n",
       "      <td>0.058936</td>\n",
       "      <td>0.005522</td>\n",
       "      <td>-0.005358</td>\n",
       "      <td>0.027955</td>\n",
       "      <td>0.067234</td>\n",
       "      <td>0.014698</td>\n",
       "      <td>-0.013029</td>\n",
       "      <td>-0.021143</td>\n",
       "      <td>0.050996</td>\n",
       "      <td>0.047809</td>\n",
       "      <td>-0.006642</td>\n",
       "      <td>-0.006609</td>\n",
       "      <td>1.000000</td>\n",
       "    </tr>\n",
       "  </tbody>\n",
       "</table>\n",
       "</div>"
      ],
      "text/plain": [
       "              id     cont1     cont2     cont3     cont4     cont5     cont6  \\\n",
       "id      1.000000 -0.001454  0.000574  0.001609  0.002131  0.001959 -0.001971   \n",
       "cont1  -0.001454  1.000000 -0.080170 -0.419712  0.273705 -0.059012  0.698556   \n",
       "cont2   0.000574 -0.080170  1.000000  0.334487 -0.005533  0.150737  0.023692   \n",
       "cont3   0.001609 -0.419712  0.334487  1.000000 -0.329131  0.060931 -0.300509   \n",
       "cont4   0.002131  0.273705 -0.005533 -0.329131  1.000000  0.123526  0.152752   \n",
       "cont5   0.001959 -0.059012  0.150737  0.060931  0.123526  1.000000 -0.179084   \n",
       "cont6  -0.001971  0.698556  0.023692 -0.300509  0.152752 -0.179084  1.000000   \n",
       "cont7  -0.000155  0.341478  0.116222  0.106904 -0.077045 -0.241272  0.541975   \n",
       "cont8   0.002112  0.373340  0.081049 -0.309783  0.324784  0.010438  0.415008   \n",
       "cont9   0.000030  0.794003 -0.046769 -0.406743  0.261927 -0.071764  0.716613   \n",
       "cont10 -0.001652  0.725040  0.035101 -0.289756  0.204139 -0.102531  0.770628   \n",
       "cont11 -0.000484  0.565717  0.126024 -0.075415  0.063961 -0.222244  0.737495   \n",
       "cont12 -0.002075  0.600041  0.092642 -0.103735  0.073291 -0.192571  0.757105   \n",
       "cont13 -0.000577  0.570382  0.017383 -0.386521  0.155226 -0.140272  0.783604   \n",
       "cont14  0.001940  0.067294  0.023972 -0.065457  0.054703  0.040552  0.067007   \n",
       "target  0.001347 -0.032994  0.067102  0.058936  0.005522 -0.005358  0.027955   \n",
       "\n",
       "           cont7     cont8     cont9    cont10    cont11    cont12    cont13  \\\n",
       "id     -0.000155  0.002112  0.000030 -0.001652 -0.000484 -0.002075 -0.000577   \n",
       "cont1   0.341478  0.373340  0.794003  0.725040  0.565717  0.600041  0.570382   \n",
       "cont2   0.116222  0.081049 -0.046769  0.035101  0.126024  0.092642  0.017383   \n",
       "cont3   0.106904 -0.309783 -0.406743 -0.289756 -0.075415 -0.103735 -0.386521   \n",
       "cont4  -0.077045  0.324784  0.261927  0.204139  0.063961  0.073291  0.155226   \n",
       "cont5  -0.241272  0.010438 -0.071764 -0.102531 -0.222244 -0.192571 -0.140272   \n",
       "cont6   0.541975  0.415008  0.716613  0.770628  0.737495  0.757105  0.783604   \n",
       "cont7   1.000000  0.150403  0.341759  0.465418  0.672188  0.657310  0.322415   \n",
       "cont8   0.150403  1.000000  0.429986  0.362336  0.296598  0.323042  0.475072   \n",
       "cont9   0.341759  0.429986  1.000000  0.725053  0.575095  0.605091  0.628391   \n",
       "cont10  0.465418  0.362336  0.725053  1.000000  0.677570  0.701872  0.650809   \n",
       "cont11  0.672188  0.296598  0.575095  0.677570  1.000000  0.825869  0.558546   \n",
       "cont12  0.657310  0.323042  0.605091  0.701872  0.825869  1.000000  0.565462   \n",
       "cont13  0.322415  0.475072  0.628391  0.650809  0.558546  0.565462  1.000000   \n",
       "cont14 -0.037135  0.100645  0.081992  0.047727  0.011074  0.022697  0.103839   \n",
       "target  0.067234  0.014698 -0.013029 -0.021143  0.050996  0.047809 -0.006642   \n",
       "\n",
       "          cont14    target  \n",
       "id      0.001940  0.001347  \n",
       "cont1   0.067294 -0.032994  \n",
       "cont2   0.023972  0.067102  \n",
       "cont3  -0.065457  0.058936  \n",
       "cont4   0.054703  0.005522  \n",
       "cont5   0.040552 -0.005358  \n",
       "cont6   0.067007  0.027955  \n",
       "cont7  -0.037135  0.067234  \n",
       "cont8   0.100645  0.014698  \n",
       "cont9   0.081992 -0.013029  \n",
       "cont10  0.047727 -0.021143  \n",
       "cont11  0.011074  0.050996  \n",
       "cont12  0.022697  0.047809  \n",
       "cont13  0.103839 -0.006642  \n",
       "cont14  1.000000 -0.006609  \n",
       "target -0.006609  1.000000  "
      ]
     },
     "execution_count": 9,
     "metadata": {},
     "output_type": "execute_result"
    }
   ],
   "source": [
    "corr = train.corr()\n",
    "corr"
   ]
  },
  {
   "cell_type": "code",
   "execution_count": 10,
   "metadata": {},
   "outputs": [
    {
     "data": {
      "image/png": "[encoded data removed]",
      "text/plain": [
       "<Figure size 1080x864 with 2 Axes>"
      ]
     },
     "metadata": {
      "needs_background": "light"
     },
     "output_type": "display_data"
    }
   ],
   "source": [
    "plt.subplots(figsize=(15,12))\n",
    "sns.heatmap(corr, vmax=0.9, cmap=\"inferno\", square=True);"
   ]
  },
  {
   "cell_type": "code",
   "execution_count": 26,
   "metadata": {},
   "outputs": [
    {
     "name": "stdout",
     "output_type": "stream",
     "text": [
      "0.4918, 0.7013\n"
     ]
    },
    {
     "data": {
      "image/png": "[encoded data removed]",
      "text/plain": [
       "<Figure size 432x288 with 1 Axes>"
      ]
     },
     "metadata": {
      "needs_background": "light"
     },
     "output_type": "display_data"
    }
   ],
   "source": [
    "import lightgbm as lgb\n",
    "from sklearn import model_selection\n",
    "from sklearn import metrics\n",
    "import numpy as np\n",
    "import shap\n",
    "\n",
    "if __name__ == \"__main__\":\n",
    "    X_train, X_valid, y_train, y_valid = model_selection.train_test_split(\n",
    "        xtrain, \n",
    "        ytrain, \n",
    "        test_size=0.2,\n",
    "    )\n",
    "    \n",
    "    model = lgb.LGBMRegressor()\n",
    "    model.fit(X_train, y_train)\n",
    "    preds = model.predict(X_valid)\n",
    "    mse = metrics.mean_squared_error(y_valid, preds)\n",
    "    rmse = np.sqrt(metrics.mean_squared_error(y_valid, preds))\n",
    "    print(f\"{mse:.4f}, {rmse:.4f}\")\n",
    "    \n",
    "    sns.distplot(y_train, kde=False, label=\"ground truth\");\n",
    "    sns.distplot(preds, kde=False, label=\"prediction\");\n",
    "    plt.legend()\n",
    "    \n",
    "    #explainer = shap.Explainer(model, X_train)\n",
    "    #shap_values = explainer.shap_values(X_train)\n",
    "    #shap.summary_plot(shap_values, X_train)"
   ]
  },
  {
   "cell_type": "code",
   "execution_count": 19,
   "metadata": {},
   "outputs": [],
   "source": [
    "from sklearn import mixture\n",
    "\n",
    "gmm = mixture.GaussianMixture(n_components=2, random_state=42)\n",
    "gmm.fit(train.target.values.reshape(-1,1))\n",
    "train[\"target_class\"] = gmm.predict(train.target.values.reshape(-1,1))"
   ]
  },
  {
   "cell_type": "code",
   "execution_count": 24,
   "metadata": {},
   "outputs": [
    {
     "data": {
      "image/png": "[encoded data removed]",
      "text/plain": [
       "<Figure size 432x288 with 1 Axes>"
      ]
     },
     "metadata": {
      "needs_background": "light"
     },
     "output_type": "display_data"
    }
   ],
   "source": [
    "sns.distplot(train[\"target\"], kde=False);"
   ]
  },
  {
   "cell_type": "code",
   "execution_count": 29,
   "metadata": {},
   "outputs": [
    {
     "data": {
      "text/plain": [
       "<matplotlib.legend.Legend at 0x7fa2800ac820>"
      ]
     },
     "execution_count": 29,
     "metadata": {},
     "output_type": "execute_result"
    },
    {
     "data": {
      "image/png": "[encoded data removed]",
      "text/plain": [
       "<Figure size 432x288 with 1 Axes>"
      ]
     },
     "metadata": {
      "needs_background": "light"
     },
     "output_type": "display_data"
    }
   ],
   "source": [
    "sns.distplot(train[train.target_class==0].target, kde=False, label=\"class 0\");\n",
    "sns.distplot(train[train.target_class==1].target, kde=False, label=\"class 1\");\n",
    "plt.legend()"
   ]
  },
  {
   "cell_type": "code",
   "execution_count": 35,
   "metadata": {},
   "outputs": [],
   "source": [
    "def get_gmm_class_features(feat, n):\n",
    "    gmm = mixture.GaussianMixture(n_components=n, random_state=42)\n",
    "    gmm.fit(train[feat].values.reshape(-1,1))\n",
    "    train[f\"{feat}_class\"] = gmm.predict(train[feat].values.reshape(-1,1))\n",
    "    test[f\"{feat}_class\"] = gmm.predict(test[feat].values.reshape(-1,1))   "
   ]
  },
  {
   "cell_type": "code",
   "execution_count": 36,
   "metadata": {},
   "outputs": [],
   "source": [
    "get_gmm_class_features(\"cont1\", 4)\n",
    "get_gmm_class_features(\"cont2\", 10)\n",
    "get_gmm_class_features(\"cont3\", 6)\n",
    "get_gmm_class_features(\"cont4\", 4)\n",
    "get_gmm_class_features(\"cont5\", 3)\n",
    "get_gmm_class_features(\"cont6\", 2)\n",
    "get_gmm_class_features(\"cont7\", 3)\n",
    "get_gmm_class_features(\"cont8\", 4)\n",
    "get_gmm_class_features(\"cont9\", 4)\n",
    "get_gmm_class_features(\"cont10\", 8)\n",
    "get_gmm_class_features(\"cont11\", 5)\n",
    "get_gmm_class_features(\"cont12\", 4)\n",
    "get_gmm_class_features(\"cont13\", 6)\n",
    "get_gmm_class_features(\"cont14\", 6)"
   ]
  },
  {
   "cell_type": "code",
   "execution_count": 38,
   "metadata": {},
   "outputs": [
    {
     "data": {
      "text/plain": [
       "Index(['id', 'cont1', 'cont2', 'cont3', 'cont4', 'cont5', 'cont6', 'cont7',\n",
       "       'cont8', 'cont9', 'cont10', 'cont11', 'cont12', 'cont13', 'cont14',\n",
       "       'target', 'target_class', 'cont1_class', 'cont2_class', 'cont3_class',\n",
       "       'cont4_class', 'cont5_class', 'cont6_class', 'cont7_class',\n",
       "       'cont8_class', 'cont9_class', 'cont10_class', 'cont11_class',\n",
       "       'cont12_class', 'cont13_class', 'cont14_class'],\n",
       "      dtype='object')"
      ]
     },
     "execution_count": 38,
     "metadata": {},
     "output_type": "execute_result"
    }
   ],
   "source": [
    "train.columns"
   ]
  },
  {
   "cell_type": "code",
   "execution_count": 39,
   "metadata": {},
   "outputs": [
    {
     "data": {
      "text/plain": [
       "Index(['id', 'cont1', 'cont2', 'cont3', 'cont4', 'cont5', 'cont6', 'cont7',\n",
       "       'cont8', 'cont9', 'cont10', 'cont11', 'cont12', 'cont13', 'cont14',\n",
       "       'cont1_class', 'cont2_class', 'cont3_class', 'cont4_class',\n",
       "       'cont5_class', 'cont6_class', 'cont7_class', 'cont8_class',\n",
       "       'cont9_class', 'cont10_class', 'cont11_class', 'cont12_class',\n",
       "       'cont13_class', 'cont14_class'],\n",
       "      dtype='object')"
      ]
     },
     "execution_count": 39,
     "metadata": {},
     "output_type": "execute_result"
    }
   ],
   "source": [
    "test.columns"
   ]
  },
  {
   "cell_type": "code",
   "execution_count": 40,
   "metadata": {},
   "outputs": [],
   "source": [
    "xtrain = train.drop([\"target\"], axis=1)\n",
    "ytrain = train[\"target\"]\n",
    "xtest = test"
   ]
  },
  {
   "cell_type": "code",
   "execution_count": 46,
   "metadata": {},
   "outputs": [
    {
     "name": "stdout",
     "output_type": "stream",
     "text": [
      "0.1405, 0.3748\n"
     ]
    },
    {
     "data": {
      "image/png": "[encoded data removed]",
      "text/plain": [
       "<Figure size 432x288 with 1 Axes>"
      ]
     },
     "metadata": {
      "needs_background": "light"
     },
     "output_type": "display_data"
    }
   ],
   "source": [
    "if __name__ == \"__main__\":\n",
    "    X_train, X_valid, y_train, y_valid = model_selection.train_test_split(\n",
    "        xtrain, \n",
    "        ytrain, \n",
    "        test_size=0.2,\n",
    "    )\n",
    "    \n",
    "    model = lgb.LGBMRegressor()\n",
    "    model.fit(X_train, y_train)\n",
    "    preds = model.predict(X_valid)\n",
    "    mse = metrics.mean_squared_error(y_valid, preds)\n",
    "    rmse = np.sqrt(metrics.mean_squared_error(y_valid, preds))\n",
    "    print(f\"{mse:.4f}, {rmse:.4f}\")\n",
    "    \n",
    "    importance = pd.DataFrame()\n",
    "    importance[\"feature\"] = xtrain.columns\n",
    "    importance[\"importance\"] = model.feature_importances_\n",
    "    importance = importance.sort_values(by=[\"importance\"], ascending=False)\n",
    "    sns.barplot(data=importance, x=\"importance\", y=\"feature\");"
   ]
  },
  {
   "cell_type": "code",
   "execution_count": null,
   "metadata": {},
   "outputs": [],
   "source": [
    "corr = train.corr()\n",
    "\n",
    "plt.subplots(figsize=(15,12))\n",
    "sns.heatmap(corr, vmax=0.9, cmap=\"inferno\", square=True);"
   ]
  },
  {
   "cell_type": "code",
   "execution_count": null,
   "metadata": {},
   "outputs": [],
   "source": []
  },
  {
   "cell_type": "code",
   "execution_count": null,
   "metadata": {},
   "outputs": [],
   "source": []
  },
  {
   "cell_type": "code",
   "execution_count": null,
   "metadata": {},
   "outputs": [],
   "source": []
  },
  {
   "cell_type": "code",
   "execution_count": null,
   "metadata": {},
   "outputs": [],
   "source": []
  },
  {
   "cell_type": "code",
   "execution_count": null,
   "metadata": {},
   "outputs": [],
   "source": []
  },
  {
   "cell_type": "code",
   "execution_count": null,
   "metadata": {},
   "outputs": [],
   "source": []
  },
  {
   "cell_type": "code",
   "execution_count": null,
   "metadata": {},
   "outputs": [],
   "source": []
  },
  {
   "cell_type": "code",
   "execution_count": null,
   "metadata": {},
   "outputs": [],
   "source": []
  },
  {
   "cell_type": "code",
   "execution_count": null,
   "metadata": {},
   "outputs": [],
   "source": []
  },
  {
   "cell_type": "code",
   "execution_count": null,
   "metadata": {},
   "outputs": [],
   "source": []
  }
 ],
 "metadata": {
  "kernelspec": {
   "display_name": "Python 3",
   "language": "python",
   "name": "python3"
  },
  "language_info": {
   "codemirror_mode": {
    "name": "ipython",
    "version": 3
   },
   "file_extension": ".py",
   "mimetype": "text/x-python",
   "name": "python",
   "nbconvert_exporter": "python",
   "pygments_lexer": "ipython3",
   "version": "3.8.3"
  }
 },
 "nbformat": 4,
 "nbformat_minor": 1
}
